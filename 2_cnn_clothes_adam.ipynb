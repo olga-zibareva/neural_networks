{
 "cells": [
  {
   "cell_type": "markdown",
   "id": "37291e34-ab85-49de-91de-7b6542ebd18c",
   "metadata": {},
   "source": [
    "# Свёрточные сети. Алгоритм Adam"
   ]
  },
  {
   "cell_type": "markdown",
   "id": "2616df9e-4558-40d6-ba56-fac9dcaee1a7",
   "metadata": {},
   "source": [
    "Для агрегатора магазинов одежды нужно сделать классификатор на 10 классов. Каждый класс будет отвечать за определённую категорию товаров и отражён на сайте агрегатора:  \n",
    "\n",
    "Label\tDescription  \n",
    "0\t    T-shirt/top  \n",
    "1\t    Trouser  \n",
    "2\t    Pullover  \n",
    "3\t    Dress  \n",
    "4\t    Coat  \n",
    "5\t    Sandal  \n",
    "6\t    Shirt  \n",
    "7\t    Sneaker  \n",
    "8\t    Bag  \n",
    "9\t    Ankle boot  \n",
    "\n",
    "Мы будем работать с изображениями, потому что описания товаров могут содержать некорректную информацию, их может быть слишком много и причём на разных языках.  \n",
    "На входе модель будет получать чёрно-белую фотографию товара.  \n",
    "\n",
    "Задача построить и обучить нейронную сеть на наборе данных с предметами одежды.  \n",
    "При работе с нейронными сетями требуются большие вычислительные мощности. Поэтому модель будет запускаться на сервере.  \n",
    "\n",
    "**Описание данных**  \n",
    "Данные находятся в датасете `fashion-mnist`.  Размер обучающей выборки: (60000, 28, 28), размер тестовой выборки: (10000, 28, 28)."
   ]
  },
  {
   "cell_type": "code",
   "execution_count": null,
   "id": "d4f1f76e",
   "metadata": {},
   "outputs": [],
   "source": [
    "# Необходимые импорты\n",
    "from tensorflow.keras.datasets import fashion_mnist\n",
    "from tensorflow.keras.layers import Conv2D, Flatten, Dense, AvgPool2D, MaxPool2D\n",
    "from tensorflow.keras.models import Sequential\n",
    "from tensorflow.keras.optimizers import Adam\n",
    "import numpy as np\n",
    "\n",
    "\n",
    "# Загружаем обучающую выборку\n",
    "def load_train(path):\n",
    "    # загрузка признаков тренировочной выборки\n",
    "    features_train = np.load(path + 'train_features.npy')\n",
    "    # заргузка целевого признака тренировочной выборки\n",
    "    target_train = np.load(path + 'train_target.npy')\n",
    "    # приведение изображений в диапазон [0, 1]\n",
    "    features_train = features_train.reshape(-1, 28, 28, 1) / 255.\n",
    "    # результат: возвращение загруженных данных тестовой выборки (тестовые данные сервер грузит сам)\n",
    "    return features_train, target_train\n",
    "\n",
    "# Создаём модель\n",
    "def create_model(input_shape):\n",
    "    # инициализация модели\n",
    "    model = Sequential()\n",
    "    # добавление слоёв в модель\n",
    "    # свёрточный слой с 6 фильтрами размером 3*3 с функцией активации `ReLU`\n",
    "    model.add(Conv2D(6, (3, 3), padding='same', activation='relu', input_shape=(28, 28, 1)))\n",
    "    # Average Pooling размером 2*2\n",
    "    model.add(AvgPool2D(pool_size=(2, 2)))\n",
    "    # разглаживание\n",
    "    model.add(Flatten())\n",
    "    # полносвязный слой с 10 нейронами, функция активации `SoftMax`\n",
    "    model.add(Dense(units=10, activation='softmax'))\n",
    "    # подключаем класс алгоритма с автоматическим подбором параметров для нейронов\n",
    "    optimizer = Adam(lr=0.01)\n",
    "    # готовим модель к обучению\n",
    "    model.compile(optimizer=optimizer, loss='sparse_categorical_crossentropy', metrics=['acc'])\n",
    "    # результат: возвращение настроенной модели\n",
    "    return model\n",
    "\n",
    "# Обучаем модель\n",
    "def train_model(model, train_data, test_data, batch_size=38, epochs=10,\n",
    "               steps_per_epoch=None, validation_steps=None):\n",
    "    # назначение тренировочных и тестовых данных\n",
    "    features_train, target_train = train_data\n",
    "    features_test, target_test = test_data\n",
    "    # обучение модели\n",
    "    model.fit(features_train, target_train, \n",
    "              validation_data=(features_test, target_test),\n",
    "              batch_size=batch_size, epochs=epochs,\n",
    "              steps_per_epoch=steps_per_epoch,\n",
    "              validation_steps=validation_steps,\n",
    "              verbose=2, shuffle=True)\n",
    "    # результат: возвращение обученной модели\n",
    "    return model"
   ]
  },
  {
   "cell_type": "raw",
   "id": "d8f07658-987d-4446-8b33-3d02cb545334",
   "metadata": {},
   "source": [
    "2024-07-11 06:38:56.099997: I tensorflow/stream_executor/platform/default/dso_loader.cc:44] Successfully opened dynamic library libcudnn.so.7\n",
    "60000/60000 - 11s - loss: 0.4253 - acc: 0.8508 - val_loss: 0.3744 - val_acc: 0.8667\n",
    "Epoch 2/10\n",
    "60000/60000 - 5s - loss: 0.3258 - acc: 0.8838 - val_loss: 0.3444 - val_acc: 0.8804\n",
    "Epoch 3/10\n",
    "60000/60000 - 5s - loss: 0.3031 - acc: 0.8933 - val_loss: 0.3493 - val_acc: 0.8816\n",
    "Epoch 4/10\n",
    "60000/60000 - 5s - loss: 0.2883 - acc: 0.8967 - val_loss: 0.3470 - val_acc: 0.8821\n",
    "Epoch 5/10\n",
    "60000/60000 - 5s - loss: 0.2792 - acc: 0.8990 - val_loss: 0.3388 - val_acc: 0.8843\n",
    "Epoch 6/10\n",
    "60000/60000 - 5s - loss: 0.2736 - acc: 0.9020 - val_loss: 0.3512 - val_acc: 0.8827\n",
    "Epoch 7/10\n",
    "60000/60000 - 5s - loss: 0.2688 - acc: 0.9032 - val_loss: 0.3605 - val_acc: 0.8757\n",
    "Epoch 8/10\n",
    "60000/60000 - 5s - loss: 0.2646 - acc: 0.9051 - val_loss: 0.3410 - val_acc: 0.8843\n",
    "Epoch 9/10\n",
    "60000/60000 - 5s - loss: 0.2599 - acc: 0.9068 - val_loss: 0.3555 - val_acc: 0.8772\n",
    "Epoch 10/10\n",
    "60000/60000 - 5s - loss: 0.2582 - acc: 0.9066 - val_loss: 0.3425 - val_acc: 0.8878\n",
    "10000/10000 - 1s - loss: 0.3425 - acc: 0.8878"
   ]
  },
  {
   "cell_type": "markdown",
   "id": "43e36547-585b-49f9-9d14-d162818d4c48",
   "metadata": {},
   "source": [
    "**Вывод.** Модель обучена. Метрика `accuracy` на тренировочной выборке 0.9066, на валидационной 0.8878, на тестовой 0.8878. Модель показала отличный результат."
   ]
  },
  {
   "cell_type": "code",
   "execution_count": null,
   "id": "a6f0039c-08ba-472c-9cbc-7b357c019fd1",
   "metadata": {},
   "outputs": [],
   "source": []
  }
 ],
 "metadata": {
  "kernelspec": {
   "display_name": "Python 3 (ipykernel)",
   "language": "python",
   "name": "python3"
  },
  "language_info": {
   "codemirror_mode": {
    "name": "ipython",
    "version": 3
   },
   "file_extension": ".py",
   "mimetype": "text/x-python",
   "name": "python",
   "nbconvert_exporter": "python",
   "pygments_lexer": "ipython3",
   "version": "3.9.19"
  },
  "toc": {
   "base_numbering": 1,
   "nav_menu": {},
   "number_sections": true,
   "sideBar": true,
   "skip_h1_title": true,
   "title_cell": "Table of Contents",
   "title_sidebar": "Contents",
   "toc_cell": false,
   "toc_position": {},
   "toc_section_display": true,
   "toc_window_display": false
  }
 },
 "nbformat": 4,
 "nbformat_minor": 5
}
