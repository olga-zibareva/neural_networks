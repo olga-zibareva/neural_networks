{
 "cells": [
  {
   "cell_type": "markdown",
   "id": "673cb44b-1d36-4c85-8e15-c4c7b4a8b069",
   "metadata": {},
   "source": [
    "# Свёрточные сети для классификации фруктов"
   ]
  },
  {
   "cell_type": "markdown",
   "id": "04179b35-990f-48c6-b97a-73b4107c6074",
   "metadata": {},
   "source": [
    "Чтобы покупателям супермаркета не приходилось запоминать и вводить код весового продукта, руководство магазина решило разработать систему компьютерного зрения. Она сама определит, какие фрукты или овощи лежат на весах.  \n",
    "Датасет с фотографиями плодов находится в папке /datasets/fruits/. На GPU-сервере — полная версия датасета. \n",
    "В наборе данных есть несколько папок с изображениями фруктов и овощей. Внутри каждой папки лежат изображения соответствующего класса.  \n",
    "\n",
    "Необходимо построить и обучить свёрточную нейронную сеть на наборе данных с фруктами.  \n",
    "\n",
    "Модель будет запускаться на GPU-сервере."
   ]
  },
  {
   "cell_type": "code",
   "execution_count": null,
   "id": "141253ad-2a0e-4ef1-a56a-f27c06cf2fba",
   "metadata": {},
   "outputs": [],
   "source": [
    "# Необходимые импорты\n",
    "from tensorflow.keras.preprocessing.image import ImageDataGenerator\n",
    "from tensorflow.keras.models import Sequential\n",
    "from tensorflow.keras.layers import Conv2D, Flatten, Dense, AvgPool2D\n",
    "from tensorflow.keras.optimizers import Adam\n",
    "import numpy as np\n",
    "\n",
    "# Загружаем обучающую выборку\n",
    "def load_train(path):\n",
    "    # применяем загрузчик данных\n",
    "    train_datagen = ImageDataGenerator(\n",
    "        validation_split=0.25,\n",
    "        rescale=1./255)\n",
    "    # вызываем извлечение данных из папки\n",
    "    train_datagen_flow = train_datagen.flow_from_directory(\n",
    "        path,\n",
    "        target_size=(150, 150),\n",
    "        batch_size=16,\n",
    "        class_mode='sparse',\n",
    "        subset='training',\n",
    "        seed=12345)\n",
    "    # результат: возвращение загрузчика данных тренировочной выборки (тестовые данные сервер грузит сам)\n",
    "    return train_datagen_flow\n",
    "\n",
    "# Создаём модель\n",
    "def create_model(input_shape):\n",
    "    # инициализация модели\n",
    "    model = Sequential()\n",
    "    # добавление слоёв в модель\n",
    "    model.add(Conv2D(6, (5, 5), padding='same', activation='relu', input_shape=input_shape))\n",
    "    model.add(AvgPool2D(pool_size=(2, 2)))\n",
    "    model.add(Flatten())\n",
    "    model.add(Dense(units=12, activation='softmax'))\n",
    "    # подготовка модели к обучению с автоматическим подбором параметров для нейронов\n",
    "    optimizer = Adam()\n",
    "    model.compile(optimizer=optimizer, loss='sparse_categorical_crossentropy', metrics=['acc'])\n",
    "    # результат: возвращение настроенной модели\n",
    "    return model\n",
    "\n",
    "# Обучаем модель\n",
    "def train_model(model, train_data, test_data, batch_size=None, epochs=10,\n",
    "               steps_per_epoch=None, validation_steps=None):\n",
    "    # назначение тренировочных и тестовых данных\n",
    "    train_datagen_flow = train_data\n",
    "    test_datagen_flow = test_data\n",
    "    # обучение модели\n",
    "    model.fit(train_data,\n",
    "              validation_data=test_data,\n",
    "              batch_size=batch_size,\n",
    "              epochs=epochs,\n",
    "              steps_per_epoch=steps_per_epoch,\n",
    "              validation_steps=validation_steps,\n",
    "              verbose=2)\n",
    "    # результат: возвращение обученной модели\n",
    "    return model"
   ]
  },
  {
   "cell_type": "code",
   "execution_count": null,
   "id": "8bed7350",
   "metadata": {},
   "outputs": [],
   "source": []
  }
 ],
 "metadata": {
  "ExecuteTimeLog": [
   {
    "duration": 2058,
    "start_time": "2024-07-11T10:31:23.067Z"
   },
   {
    "duration": 1192,
    "start_time": "2024-07-11T10:32:51.384Z"
   },
   {
    "duration": 290,
    "start_time": "2024-07-11T11:27:12.967Z"
   },
   {
    "duration": 125,
    "start_time": "2024-07-11T11:28:41.426Z"
   },
   {
    "duration": 1958,
    "start_time": "2024-07-11T11:40:40.169Z"
   },
   {
    "duration": 7,
    "start_time": "2024-07-11T11:44:36.527Z"
   }
  ],
  "kernelspec": {
   "display_name": "Python 3 (ipykernel)",
   "language": "python",
   "name": "python3"
  },
  "language_info": {
   "codemirror_mode": {
    "name": "ipython",
    "version": 3
   },
   "file_extension": ".py",
   "mimetype": "text/x-python",
   "name": "python",
   "nbconvert_exporter": "python",
   "pygments_lexer": "ipython3",
   "version": "3.9.19"
  },
  "toc": {
   "base_numbering": 1,
   "nav_menu": {},
   "number_sections": true,
   "sideBar": true,
   "skip_h1_title": true,
   "title_cell": "Table of Contents",
   "title_sidebar": "Contents",
   "toc_cell": false,
   "toc_position": {},
   "toc_section_display": true,
   "toc_window_display": false
  }
 },
 "nbformat": 4,
 "nbformat_minor": 5
}
